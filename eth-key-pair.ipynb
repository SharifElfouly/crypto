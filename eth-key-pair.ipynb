{
 "cells": [
  {
   "cell_type": "code",
   "execution_count": 2,
   "id": "hydraulic-chassis",
   "metadata": {},
   "outputs": [],
   "source": [
    "%%capture\n",
    "!pip3 install ecdsa pysha3"
   ]
  },
  {
   "cell_type": "code",
   "execution_count": 18,
   "id": "czech-theorem",
   "metadata": {},
   "outputs": [],
   "source": [
    "from ecdsa import SigningKey, SECP256k1\n",
    "import sha3"
   ]
  },
  {
   "cell_type": "markdown",
   "id": "adapted-scout",
   "metadata": {},
   "source": [
    "#### Private Key: 32 bytes"
   ]
  },
  {
   "cell_type": "code",
   "execution_count": 19,
   "id": "elder-ultimate",
   "metadata": {},
   "outputs": [],
   "source": [
    "keccak = sha3.keccak_256()"
   ]
  },
  {
   "cell_type": "code",
   "execution_count": 87,
   "id": "noticed-burst",
   "metadata": {},
   "outputs": [
    {
     "data": {
      "text/plain": [
       "'5f9a7d0cdc38ca05b748f2070c09a1fa00739d2191d532402b5a6b7444c1da4a'"
      ]
     },
     "execution_count": 87,
     "metadata": {},
     "output_type": "execute_result"
    }
   ],
   "source": [
    "priv_key = SigningKey.generate(curve=SECP256k1)\n",
    "priv_key.to_string().hex()"
   ]
  },
  {
   "cell_type": "markdown",
   "id": "worth-zealand",
   "metadata": {},
   "source": [
    "#### Public Key: 64 bytes"
   ]
  },
  {
   "cell_type": "code",
   "execution_count": 88,
   "id": "literary-intensity",
   "metadata": {},
   "outputs": [
    {
     "data": {
      "text/plain": [
       "'57f171bf9b7c13c720af28f2fe295684ff4b3c80289966ef1f2b26c02782bfe4022a4ec3f54fb30036a8e55d507e6d8cb8cc4b1594c7a3344bf00867ae95694c'"
      ]
     },
     "execution_count": 88,
     "metadata": {},
     "output_type": "execute_result"
    }
   ],
   "source": [
    "pub_key = priv.get_verifying_key().to_string()\n",
    "keccak.update(pub_key)\n",
    "pub_key.hex()"
   ]
  },
  {
   "cell_type": "markdown",
   "id": "exclusive-saturn",
   "metadata": {},
   "source": [
    "#### Ethereum Address"
   ]
  },
  {
   "cell_type": "code",
   "execution_count": 92,
   "id": "proprietary-automation",
   "metadata": {},
   "outputs": [
    {
     "data": {
      "text/plain": [
       "'0xbed856f7fe5c8558c76fb6a881d44f8e42239812'"
      ]
     },
     "execution_count": 92,
     "metadata": {},
     "output_type": "execute_result"
    }
   ],
   "source": [
    "address = keccak.hexdigest()[24:]; hex(int(address, 16))"
   ]
  }
 ],
 "metadata": {
  "kernelspec": {
   "display_name": "Python 3",
   "language": "python",
   "name": "python3"
  },
  "language_info": {
   "codemirror_mode": {
    "name": "ipython",
    "version": 3
   },
   "file_extension": ".py",
   "mimetype": "text/x-python",
   "name": "python",
   "nbconvert_exporter": "python",
   "pygments_lexer": "ipython3",
   "version": "3.8.2"
  }
 },
 "nbformat": 4,
 "nbformat_minor": 5
}
