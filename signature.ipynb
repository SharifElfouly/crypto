{
 "cells": [
  {
   "cell_type": "markdown",
   "id": "amended-reflection",
   "metadata": {},
   "source": [
    "https://cryptobook.nakov.com/digital-signatures/rsa-sign-verify-examples"
   ]
  },
  {
   "cell_type": "code",
   "execution_count": 29,
   "id": "aquatic-novelty",
   "metadata": {},
   "outputs": [],
   "source": [
    "from Crypto.PublicKey import RSA\n",
    "from Crypto.Signature.pkcs1_15 import PKCS115_SigScheme\n",
    "from Crypto.Hash import SHA256\n",
    "import binascii\n",
    "from hashlib import sha512"
   ]
  },
  {
   "cell_type": "code",
   "execution_count": 39,
   "id": "outside-stevens",
   "metadata": {},
   "outputs": [
    {
     "name": "stdout",
     "output_type": "stream",
     "text": [
      "Public key:  (n=0xc1f5da310bb02aaa5fc3bd6bdf3c51b3aec955b53767e46e6ed9a61ebd46935230f4a790debc4d3e391de5cb061065cc387e37408b671eb7deb2b0cf5b907ca75e1bedcd2839490fa869946dbc69dcbb52dcdc3ba340e6d72e819a3816c23d889e868199e845167ef3f236ec25e494454c7b4c355b2f51acade236c06e691a87, e=0x10001)\n",
      "Private key: (n=0xc1f5da310bb02aaa5fc3bd6bdf3c51b3aec955b53767e46e6ed9a61ebd46935230f4a790debc4d3e391de5cb061065cc387e37408b671eb7deb2b0cf5b907ca75e1bedcd2839490fa869946dbc69dcbb52dcdc3ba340e6d72e819a3816c23d889e868199e845167ef3f236ec25e494454c7b4c355b2f51acade236c06e691a87, d=0x1a6e898c737e4f622668c35086fc6e59e130d8b83853b5228382af8bb2d9824c0a15dd1bf5ee8d4c3476699150433dcc25cab576db48733c3561fe8c537b0e3177fab59299eb6ee3e1b10a6bc8f3cab8294b3da1bddcb0b966d7bbc34e929acd00a8853b081283922b88b1f962d6447b5f7c4aff1b2ff17ef664eb6f5919d7f9)\n"
     ]
    }
   ],
   "source": [
    "key_pair = RSA.generate(bits=1024)"
   ]
  },
  {
   "cell_type": "code",
   "execution_count": 17,
   "id": "everyday-beach",
   "metadata": {},
   "outputs": [],
   "source": [
    "msg = b'A message for signing'"
   ]
  },
  {
   "cell_type": "code",
   "execution_count": 18,
   "id": "emerging-kingdom",
   "metadata": {},
   "outputs": [
    {
     "data": {
      "text/plain": [
       "'0xac9b98c89d619d4c9c93507ae3acd89651ff611188be4cab0ad5d74159c3804f21cc80fa4ae3e509825440185669ee0d2af4c354b7e1da680fb8d8850bac5fb60e35e76c0e13f4260438837c539d676c17fad0d2c2f189ecd411bc89b286eb41f162ab25ce04b9ea3cca9422630292c694044b33463ef8da1efaf1500673b49f'"
      ]
     },
     "execution_count": 18,
     "metadata": {},
     "output_type": "execute_result"
    }
   ],
   "source": [
    "hash = int.from_bytes(sha512(msg).digest(), byteorder='big')\n",
    "signature = pow(hash, key_pair.d, key_pair.n)\n",
    "hex(signature)"
   ]
  },
  {
   "cell_type": "code",
   "execution_count": 24,
   "id": "residential-covering",
   "metadata": {},
   "outputs": [
    {
     "data": {
      "text/plain": [
       "True"
      ]
     },
     "execution_count": 24,
     "metadata": {},
     "output_type": "execute_result"
    }
   ],
   "source": [
    "hash = int.from_bytes(sha512(msg).digest(), byteorder='big')\n",
    "hashFromSignature = pow(signature, key_pair.e, key_pair.n)\n",
    "hash == hashFromSignature"
   ]
  },
  {
   "cell_type": "markdown",
   "id": "cutting-driving",
   "metadata": {},
   "source": [
    "Change the message"
   ]
  },
  {
   "cell_type": "code",
   "execution_count": 25,
   "id": "ongoing-block",
   "metadata": {},
   "outputs": [],
   "source": [
    "msg = b'A message for signing!'"
   ]
  },
  {
   "cell_type": "code",
   "execution_count": 26,
   "id": "accessory-necklace",
   "metadata": {},
   "outputs": [
    {
     "data": {
      "text/plain": [
       "False"
      ]
     },
     "execution_count": 26,
     "metadata": {},
     "output_type": "execute_result"
    }
   ],
   "source": [
    "hash = int.from_bytes(sha512(msg).digest(), byteorder='big')\n",
    "hashFromSignature = pow(signature, key_pair.e, key_pair.n)\n",
    "hash == hashFromSignature"
   ]
  },
  {
   "cell_type": "markdown",
   "id": "swedish-universal",
   "metadata": {},
   "source": [
    "## PKCS#1"
   ]
  },
  {
   "cell_type": "markdown",
   "id": "empirical-saying",
   "metadata": {},
   "source": [
    "#### Sign message"
   ]
  },
  {
   "cell_type": "code",
   "execution_count": 41,
   "id": "fitted-november",
   "metadata": {},
   "outputs": [
    {
     "data": {
      "text/plain": [
       "'5a1752edc726acecfa97e86fc4c82c7f053c2af8f9450b301cdbaaf2e2b37c68'"
      ]
     },
     "execution_count": 41,
     "metadata": {},
     "output_type": "execute_result"
    }
   ],
   "source": [
    "hash = SHA256.new(msg)\n",
    "hash.hexdigest()"
   ]
  },
  {
   "cell_type": "code",
   "execution_count": 42,
   "id": "reflected-spoke",
   "metadata": {},
   "outputs": [
    {
     "data": {
      "text/plain": [
       "'0e3e87c10edfbc3936177528bf35e6728b120fd13cd8c7f33b9b9c259e50377be2bae4a7c2f7f57f69e50e835392afb862252c1e00fe9f429f0d02a4554436659f9c805d4ef27396888475f449bccc4eed23d6be8a7404e63b0ea50b304acbe8f1f94d3c48fc586b11b9fc51b324305511fcb373a8a6121645210f93b8a053c6'"
      ]
     },
     "execution_count": 42,
     "metadata": {},
     "output_type": "execute_result"
    }
   ],
   "source": [
    "signer = PKCS115_SigScheme(key_pair)\n",
    "signature = signer.sign(hash)\n",
    "signature.hex()"
   ]
  },
  {
   "cell_type": "markdown",
   "id": "individual-jordan",
   "metadata": {},
   "source": [
    "#### Verify signature"
   ]
  },
  {
   "cell_type": "code",
   "execution_count": 43,
   "id": "assumed-hypothesis",
   "metadata": {},
   "outputs": [
    {
     "data": {
      "text/plain": [
       "'5a1752edc726acecfa97e86fc4c82c7f053c2af8f9450b301cdbaaf2e2b37c68'"
      ]
     },
     "execution_count": 43,
     "metadata": {},
     "output_type": "execute_result"
    }
   ],
   "source": [
    "hash = SHA256.new(msg)\n",
    "hash.hexdigest()"
   ]
  },
  {
   "cell_type": "code",
   "execution_count": 44,
   "id": "nasty-prospect",
   "metadata": {},
   "outputs": [],
   "source": [
    "verifier = PKCS115_SigScheme(key_pair.publickey())\n",
    "verifier.verify(hash, signature)"
   ]
  }
 ],
 "metadata": {
  "kernelspec": {
   "display_name": "Python 3",
   "language": "python",
   "name": "python3"
  },
  "language_info": {
   "codemirror_mode": {
    "name": "ipython",
    "version": 3
   },
   "file_extension": ".py",
   "mimetype": "text/x-python",
   "name": "python",
   "nbconvert_exporter": "python",
   "pygments_lexer": "ipython3",
   "version": "3.8.2"
  }
 },
 "nbformat": 4,
 "nbformat_minor": 5
}
