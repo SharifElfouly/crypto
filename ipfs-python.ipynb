{
 "cells": [
  {
   "cell_type": "markdown",
   "id": "weighted-abraham",
   "metadata": {},
   "source": [
    "Run: `pip3 install ipfshttpclient==0.7.0a1`\n",
    "\n",
    "- ipfshttpclient 0.6.1 does not work with Infura"
   ]
  },
  {
   "cell_type": "code",
   "execution_count": 3,
   "id": "united-turkish",
   "metadata": {},
   "outputs": [],
   "source": [
    "import ipfshttpclient\n",
    "import requests"
   ]
  },
  {
   "cell_type": "code",
   "execution_count": 5,
   "id": "accompanied-separate",
   "metadata": {},
   "outputs": [],
   "source": [
    "addr = '/dns4/ipfs.infura.io/tcp/5001/https'\n",
    "client = ipfshttpclient.connect(addr)"
   ]
  },
  {
   "cell_type": "code",
   "execution_count": 10,
   "id": "unexpected-adventure",
   "metadata": {},
   "outputs": [],
   "source": [
    "# random file to upload\n",
    "fn = 'test.txt'\n",
    "file = open(fn, 'w')\n",
    "file.write('Hello IPFS!')\n",
    "file.close()"
   ]
  },
  {
   "cell_type": "markdown",
   "id": "tight-potter",
   "metadata": {},
   "source": [
    "#### Upload File"
   ]
  },
  {
   "cell_type": "code",
   "execution_count": 8,
   "id": "listed-sheet",
   "metadata": {},
   "outputs": [
    {
     "data": {
      "text/plain": [
       "<ipfshttpclient.client.base.ResponseBase: {'Name': 'test.txt', 'Hash': 'QmYt9ypyGsR1BKdaCGPdwdBgAiuXK5AYN2bGSNZov7YXuk', 'Size': '19'}>"
      ]
     },
     "execution_count": 8,
     "metadata": {},
     "output_type": "execute_result"
    }
   ],
   "source": [
    "res = client.add(fn)\n",
    "res"
   ]
  },
  {
   "cell_type": "markdown",
   "id": "established-instrumentation",
   "metadata": {},
   "source": [
    "IPFS is a content addressable system. A file is uniquely identified by its hash. "
   ]
  },
  {
   "cell_type": "code",
   "execution_count": 9,
   "id": "saved-absolute",
   "metadata": {},
   "outputs": [
    {
     "data": {
      "text/plain": [
       "'QmYt9ypyGsR1BKdaCGPdwdBgAiuXK5AYN2bGSNZov7YXuk'"
      ]
     },
     "execution_count": 9,
     "metadata": {},
     "output_type": "execute_result"
    }
   ],
   "source": [
    "res['Hash']"
   ]
  },
  {
   "cell_type": "markdown",
   "id": "vanilla-warehouse",
   "metadata": {},
   "source": [
    "#### Download File\n",
    "\n",
    "Get the file in the browser using its hash: `https://ipfs.io/ipfs/QmYt9ypyGsR1BKdaCGPdwdBgAiuXK5AYN2bGSNZov7YXuk`"
   ]
  },
  {
   "cell_type": "code",
   "execution_count": 20,
   "id": "creative-specification",
   "metadata": {},
   "outputs": [
    {
     "data": {
      "text/plain": [
       "b'Hello IPFS!'"
      ]
     },
     "execution_count": 20,
     "metadata": {},
     "output_type": "execute_result"
    }
   ],
   "source": [
    "url = 'https://ipfs.io/ipfs/' + res['Hash']\n",
    "r = requests.get(url)\n",
    "r.content"
   ]
  },
  {
   "cell_type": "markdown",
   "id": "resident-punch",
   "metadata": {},
   "source": [
    "Or using the Client"
   ]
  },
  {
   "cell_type": "code",
   "execution_count": 24,
   "id": "published-specification",
   "metadata": {},
   "outputs": [
    {
     "data": {
      "text/plain": [
       "b'Hello IPFS!'"
      ]
     },
     "execution_count": 24,
     "metadata": {},
     "output_type": "execute_result"
    }
   ],
   "source": [
    "client.cat(res['Hash'])"
   ]
  },
  {
   "cell_type": "markdown",
   "id": "about-reggae",
   "metadata": {},
   "source": [
    "#### Upload JSON"
   ]
  },
  {
   "cell_type": "code",
   "execution_count": 14,
   "id": "julian-green",
   "metadata": {},
   "outputs": [
    {
     "data": {
      "text/plain": [
       "'QmQxCSBwNZskwrpYFLBsqvh11R3AcjqgHBfNBeD2eWFi7v'"
      ]
     },
     "execution_count": 14,
     "metadata": {},
     "output_type": "execute_result"
    }
   ],
   "source": [
    "names = ['finney', 'szabo', 'wood', 'vitalik']\n",
    "\n",
    "client.add_json(names)"
   ]
  },
  {
   "cell_type": "code",
   "execution_count": 15,
   "id": "molecular-person",
   "metadata": {},
   "outputs": [
    {
     "data": {
      "text/plain": [
       "['finney', 'szabo', 'wood', 'vitalik']"
      ]
     },
     "execution_count": 15,
     "metadata": {},
     "output_type": "execute_result"
    }
   ],
   "source": [
    "client.get_json('QmQxCSBwNZskwrpYFLBsqvh11R3AcjqgHBfNBeD2eWFi7v')"
   ]
  }
 ],
 "metadata": {
  "kernelspec": {
   "display_name": "Python 3",
   "language": "python",
   "name": "python3"
  },
  "language_info": {
   "codemirror_mode": {
    "name": "ipython",
    "version": 3
   },
   "file_extension": ".py",
   "mimetype": "text/x-python",
   "name": "python",
   "nbconvert_exporter": "python",
   "pygments_lexer": "ipython3",
   "version": "3.8.2"
  }
 },
 "nbformat": 4,
 "nbformat_minor": 5
}
