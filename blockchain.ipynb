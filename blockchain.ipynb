{
 "cells": [
  {
   "cell_type": "code",
   "execution_count": 10,
   "metadata": {},
   "outputs": [],
   "source": [
    "import hashlib, json, sys, random\n",
    "random.seed(0)"
   ]
  },
  {
   "cell_type": "code",
   "execution_count": 114,
   "metadata": {},
   "outputs": [],
   "source": [
    "def hash_me(msg=''):\n",
    "    if type(msg) != str:\n",
    "        msg = json.dumps(msg, sort_keys=True)\n",
    "    return hashlib.sha256(str(msg).encode('utf-8')).hexdigest()"
   ]
  },
  {
   "cell_type": "code",
   "execution_count": 198,
   "metadata": {},
   "outputs": [
    {
     "name": "stdout",
     "output_type": "stream",
     "text": [
      "524b30f818bf83fc541d0cb25109686e77c39fbed86bf11da3db0130f49e5e15\n",
      "cac33d7fb72738ea3c59d02292f7be252c03cac466b872d3a16393dbf85dfd80\n"
     ]
    }
   ],
   "source": [
    "print(hash_me('Sharif'))\n",
    "print(hash_me('Shari'))"
   ]
  },
  {
   "cell_type": "code",
   "execution_count": 199,
   "metadata": {},
   "outputs": [],
   "source": [
    "def make_transaction(max_value=3):\n",
    "    sign = int(random.getrandbits(1))*2 -1\n",
    "    amount = random.randint(1, max_value)\n",
    "    alice_payment = sign * amount\n",
    "    bob_payment = -1 * alice_payment\n",
    "    return {'Alice': alice_payment, 'Bob': bob_payment}"
   ]
  },
  {
   "cell_type": "code",
   "execution_count": 200,
   "metadata": {},
   "outputs": [
    {
     "data": {
      "text/plain": [
       "{'Alice': 2, 'Bob': -2}"
      ]
     },
     "execution_count": 200,
     "metadata": {},
     "output_type": "execute_result"
    }
   ],
   "source": [
    "make_transaction()"
   ]
  },
  {
   "cell_type": "code",
   "execution_count": 201,
   "metadata": {},
   "outputs": [],
   "source": [
    "txs_buffer = [make_transaction() for i in range(30)]"
   ]
  },
  {
   "cell_type": "code",
   "execution_count": 202,
   "metadata": {},
   "outputs": [],
   "source": [
    "def update_state(txs, state):\n",
    "    state = state.copy()\n",
    "    for key in txs:\n",
    "        if key in state.keys(): state[key] += txs[key]\n",
    "        else                  : state[key] = txs[key]\n",
    "    return state"
   ]
  },
  {
   "cell_type": "code",
   "execution_count": 203,
   "metadata": {},
   "outputs": [],
   "source": [
    "def is_valid_txs(txs, state):\n",
    "    if sum(txs.values()) != 0: return False\n",
    "    \n",
    "    for key in txs.keys():\n",
    "        if key in state.keys(): acctBalance = state[key]\n",
    "        else                  : acctBalance = 0\n",
    "        \n",
    "        if (acctBalance + txs[key]) < 0: return False\n",
    "    \n",
    "    return True"
   ]
  },
  {
   "cell_type": "code",
   "execution_count": 204,
   "metadata": {},
   "outputs": [],
   "source": [
    "state = {'Alice': 5, 'Bob': 5}"
   ]
  },
  {
   "cell_type": "code",
   "execution_count": 205,
   "metadata": {},
   "outputs": [
    {
     "name": "stdout",
     "output_type": "stream",
     "text": [
      "True\n",
      "False\n",
      "False\n",
      "True\n",
      "False\n"
     ]
    }
   ],
   "source": [
    "print(is_valid_txs({'Alice': -3, 'Bob': 3},state))  # Basic transaction- this works great!\n",
    "print(is_valid_txs({'Alice': -4, 'Bob': 3},state))  # But we can't create or destroy tokens!\n",
    "print(is_valid_txs({'Alice': -6, 'Bob': 6},state))  # We also can't overdraft our account.\n",
    "print(is_valid_txs({'Alice': -4, 'Bob': 2,'Lisa':2},state)) # Creating new users is valid\n",
    "print(is_valid_txs({'Alice': -4, 'Bob': 3,'Lisa':2},state)) # But the same rules still apply!"
   ]
  },
  {
   "cell_type": "code",
   "execution_count": 206,
   "metadata": {},
   "outputs": [],
   "source": [
    "state = {'Alice':50, 'Bob':50}  # initial state\n",
    "genesis_block_txns = [state]\n",
    "genesis_block_contents = {'blockNumber':0,\n",
    "                          'parentHash':None,\n",
    "                          'txnCount':1,\n",
    "                          'txns':genesis_block_txns}\n",
    "genesis_hash = hash_me(genesis_block_contents)\n",
    "genesis_block = {'hash':genesis_hash,'contents':genesis_block_contents}\n",
    "genesis_block_str = json.dumps(genesis_block)"
   ]
  },
  {
   "cell_type": "code",
   "execution_count": 207,
   "metadata": {},
   "outputs": [
    {
     "data": {
      "text/plain": [
       "'{\"contents\": {\"blockNumber\": 0, \"parentHash\": null, \"txnCount\": 1, \"txns\": [{\"Alice\": 50, \"Bob\": 50}]}, \"hash\": \"7c88a4312054f89a2b73b04989cd9b9e1ae437e1048f89fbb4e18a08479de507\"}'"
      ]
     },
     "execution_count": 207,
     "metadata": {},
     "output_type": "execute_result"
    }
   ],
   "source": [
    "genesisBlockStr"
   ]
  },
  {
   "cell_type": "code",
   "execution_count": 208,
   "metadata": {},
   "outputs": [],
   "source": [
    "chain = [genesis_block]"
   ]
  },
  {
   "cell_type": "code",
   "execution_count": 209,
   "metadata": {},
   "outputs": [],
   "source": [
    "def make_block(txns, chain):\n",
    "    parent_block = chain[-1]\n",
    "    parent_hash = parent_block['hash']\n",
    "    block_number = parent_block['contents']['blockNumber'] + 1\n",
    "    block_contents = {'blockNumber': block_number,\n",
    "                      'parent_hash': parent_hash,\n",
    "                      'txnCount': len(txns),\n",
    "                      'txns': txns}\n",
    "    block_hash = hash_me(block_contents)\n",
    "    block = {'hash': block_hash,\n",
    "             'contents': block_contents}\n",
    "    return block"
   ]
  },
  {
   "cell_type": "code",
   "execution_count": 210,
   "metadata": {},
   "outputs": [],
   "source": [
    "block_sz_limit = 5\n",
    "\n",
    "while len(txs_buffer) > 0:\n",
    "    buffer_start_sz = len(txs_buffer)\n",
    "    txs_list = []\n",
    "    while(len(txs_buffer) > 0) & (len(txs_list) < block_sz_limit):\n",
    "        new_tx = txs_buffer.pop()\n",
    "        is_valid = is_valid_txs(new_tx, state)\n",
    "        if is_valid:\n",
    "            txs_list.append(new_tx)\n",
    "            state = update_state(new_tx, state)\n",
    "        else:\n",
    "            print('Invalid')\n",
    "            continue\n",
    "        \n",
    "    my_block = make_block(txs_list, chain)\n",
    "    chain.append(my_block)"
   ]
  },
  {
   "cell_type": "code",
   "execution_count": 211,
   "metadata": {},
   "outputs": [
    {
     "data": {
      "text/plain": [
       "{'hash': '7c88a4312054f89a2b73b04989cd9b9e1ae437e1048f89fbb4e18a08479de507',\n",
       " 'contents': {'blockNumber': 0,\n",
       "  'parentHash': None,\n",
       "  'txnCount': 1,\n",
       "  'txns': [{'Alice': 50, 'Bob': 50}]}}"
      ]
     },
     "execution_count": 211,
     "metadata": {},
     "output_type": "execute_result"
    }
   ],
   "source": [
    "chain[0]"
   ]
  },
  {
   "cell_type": "code",
   "execution_count": 212,
   "metadata": {},
   "outputs": [
    {
     "data": {
      "text/plain": [
       "{'hash': '0126826afd9d954667ab75eb42a89b3fa79425aef730959cf653be9d1f9df9e1',\n",
       " 'contents': {'blockNumber': 1,\n",
       "  'parent_hash': '7c88a4312054f89a2b73b04989cd9b9e1ae437e1048f89fbb4e18a08479de507',\n",
       "  'txnCount': 5,\n",
       "  'txns': [{'Alice': -3, 'Bob': 3},\n",
       "   {'Alice': -1, 'Bob': 1},\n",
       "   {'Alice': 3, 'Bob': -3},\n",
       "   {'Alice': 3, 'Bob': -3},\n",
       "   {'Alice': 1, 'Bob': -1}]}}"
      ]
     },
     "execution_count": 212,
     "metadata": {},
     "output_type": "execute_result"
    }
   ],
   "source": [
    "chain[1]"
   ]
  },
  {
   "cell_type": "code",
   "execution_count": 213,
   "metadata": {},
   "outputs": [
    {
     "data": {
      "text/plain": [
       "{'hash': '4a2c9d626bce6f30aad64ceb34b5dfec3b9418e2eb38eb9faa01f1bf5e666028',\n",
       " 'contents': {'blockNumber': 2,\n",
       "  'parent_hash': '0126826afd9d954667ab75eb42a89b3fa79425aef730959cf653be9d1f9df9e1',\n",
       "  'txnCount': 5,\n",
       "  'txns': [{'Alice': -3, 'Bob': 3},\n",
       "   {'Alice': -1, 'Bob': 1},\n",
       "   {'Alice': -2, 'Bob': 2},\n",
       "   {'Alice': -3, 'Bob': 3},\n",
       "   {'Alice': -1, 'Bob': 1}]}}"
      ]
     },
     "execution_count": 213,
     "metadata": {},
     "output_type": "execute_result"
    }
   ],
   "source": [
    "chain[2]"
   ]
  },
  {
   "cell_type": "code",
   "execution_count": 214,
   "metadata": {},
   "outputs": [
    {
     "data": {
      "text/plain": [
       "{'hash': 'e2f856f2f6532a6cfd565921c41d3b52b038960a4b4c2cd7de9448313a43ddec',\n",
       " 'contents': {'blockNumber': 3,\n",
       "  'parent_hash': '4a2c9d626bce6f30aad64ceb34b5dfec3b9418e2eb38eb9faa01f1bf5e666028',\n",
       "  'txnCount': 5,\n",
       "  'txns': [{'Alice': 3, 'Bob': -3},\n",
       "   {'Alice': 1, 'Bob': -1},\n",
       "   {'Alice': 3, 'Bob': -3},\n",
       "   {'Alice': -3, 'Bob': 3},\n",
       "   {'Alice': -2, 'Bob': 2}]}}"
      ]
     },
     "execution_count": 214,
     "metadata": {},
     "output_type": "execute_result"
    }
   ],
   "source": [
    "chain[3]"
   ]
  },
  {
   "cell_type": "code",
   "execution_count": 215,
   "metadata": {},
   "outputs": [
    {
     "data": {
      "text/plain": [
       "{'Alice': 49, 'Bob': 51}"
      ]
     },
     "execution_count": 215,
     "metadata": {},
     "output_type": "execute_result"
    }
   ],
   "source": [
    "state"
   ]
  },
  {
   "cell_type": "code",
   "execution_count": 216,
   "metadata": {},
   "outputs": [],
   "source": [
    "def check_block_hash(block):\n",
    "    expected_hash = hash_me(block['contents'])\n",
    "    if block['hash'] != expected_hash: raise Exception('wrong hash')\n",
    "    return True"
   ]
  },
  {
   "cell_type": "code",
   "execution_count": 218,
   "metadata": {},
   "outputs": [],
   "source": [
    "def check_block_validity(block, parent, state):\n",
    "    parent_number = parent['contents']['blockNumber']\n",
    "    parent_hash = parent['hash']\n",
    "    block_number = block['contents']['blockNumber']\n",
    "    \n",
    "    for txn in block['contents']['txns']:\n",
    "        if isValidTxn(txn, state): state = update_state(txn, state)\n",
    "        else: raise Exception('invalid txn')\n",
    "        \n",
    "    if block_number != parent_number+1: raise Exception('wrong block number')\n",
    "    \n",
    "    if block['contents']['parentHash'] != parentHash: raise Exception('wrong hash')\n",
    "    \n",
    "    return state"
   ]
  },
  {
   "cell_type": "code",
   "execution_count": null,
   "metadata": {},
   "outputs": [],
   "source": [
    "def check_chain(state):\n",
    "    if type(chain) == str:\n",
    "        try:\n",
    "            chain = json.loads(chain)\n",
    "            assert(type(chain) == list)\n",
    "        except: return False\n",
    "    elif type(chain) != list:\n",
    "        return False\n",
    "    \n",
    "    state = {}\n",
    "\n",
    "    # for genesis block\n",
    "    for txn in chain[0]['contents']['txns']:\n",
    "        state = updateState(txn,state)\n",
    "    checkBlockHash(chain[0])\n",
    "    parent = chain[0]\n",
    "    \n",
    "    for block in chain[1:]:\n",
    "        state = checkBlockValidity(block,parent,state)\n",
    "        parent = block\n",
    "        \n",
    "    return state"
   ]
  }
 ],
 "metadata": {
  "kernelspec": {
   "display_name": "Python 3",
   "language": "python",
   "name": "python3"
  },
  "language_info": {
   "codemirror_mode": {
    "name": "ipython",
    "version": 3
   },
   "file_extension": ".py",
   "mimetype": "text/x-python",
   "name": "python",
   "nbconvert_exporter": "python",
   "pygments_lexer": "ipython3",
   "version": "3.8.3"
  }
 },
 "nbformat": 4,
 "nbformat_minor": 4
}
