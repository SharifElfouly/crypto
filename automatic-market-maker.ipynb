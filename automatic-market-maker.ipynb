{
 "cells": [
  {
   "cell_type": "code",
   "execution_count": 1,
   "id": "logical-natural",
   "metadata": {},
   "outputs": [],
   "source": [
    "import time"
   ]
  },
  {
   "cell_type": "markdown",
   "id": "nuclear-dover",
   "metadata": {},
   "source": [
    "As an example we will create a automatic-market-maker (AMM) for exchanging ether and uni."
   ]
  },
  {
   "cell_type": "code",
   "execution_count": 17,
   "id": "egyptian-technique",
   "metadata": {},
   "outputs": [
    {
     "data": {
      "text/plain": [
       "100000"
      ]
     },
     "execution_count": 17,
     "metadata": {},
     "output_type": "execute_result"
    }
   ],
   "source": [
    "# initial supply of ether\n",
    "eth_pool = 100\n",
    "\n",
    "# initial supply of uni\n",
    "uni_pool = 1000\n",
    "\n",
    "# eth * uni always has to stay at k\n",
    "k = eth_pool * uni_pool; k"
   ]
  },
  {
   "cell_type": "code",
   "execution_count": 18,
   "id": "marine-space",
   "metadata": {},
   "outputs": [],
   "source": [
    "def exchange(amount, currency, eth_pool, uni_pool):\n",
    "    if currency == 'eth':\n",
    "        exchange_rate = uni_pool - (k / (eth_pool+amount))\n",
    "        eth_pool += amount\n",
    "        uni_pool -= exchange_rate\n",
    "        \n",
    "    if currency == 'uni':\n",
    "        exchange_rate = eth_pool - (k / (uni_pool+amount))\n",
    "        uni_pool += amount\n",
    "        eth_pool -= exchange_rate\n",
    "        \n",
    "    return eth_pool, uni_pool, exchange_rate"
   ]
  },
  {
   "cell_type": "code",
   "execution_count": 19,
   "id": "severe-mozambique",
   "metadata": {},
   "outputs": [],
   "source": [
    "eth_pool, uni_pool, exchange_rate = exchange(100, 'eth', eth_pool, uni_pool)"
   ]
  },
  {
   "cell_type": "code",
   "execution_count": 20,
   "id": "interim-integration",
   "metadata": {},
   "outputs": [],
   "source": [
    "eth_pool, uni_pool, exchange_rate = exchange(1, 'uni', eth_pool, uni_pool)"
   ]
  },
  {
   "cell_type": "code",
   "execution_count": 21,
   "id": "assured-sucking",
   "metadata": {},
   "outputs": [
    {
     "name": "stdout",
     "output_type": "stream",
     "text": [
      "167.22251832111925\n",
      "83.52773142913048\n",
      "50.08994201962642\n",
      "33.38217840322636\n",
      "23.83897076840961\n",
      "17.87625266807349\n",
      "13.9019892615038\n",
      "11.120481026674156\n",
      "9.097841348197562\n",
      "7.581029862191926\n",
      "6.414359316666463\n",
      "5.497760908894108\n",
      "4.764530983336812\n",
      "4.168815978931583\n",
      "3.678251843771342\n",
      "3.2694665346033247\n",
      "2.9252398384099294\n",
      "2.6326574548915858\n",
      "2.381880501778042\n",
      "2.1653066122334366\n",
      "1.9769863947646442\n",
      "1.812210120637701\n",
      "1.6672101572999196\n",
      "1.5389435281833244\n",
      "1.4249308542284567\n"
     ]
    }
   ],
   "source": [
    "for _ in range(25):\n",
    "    eth_pool, uni_pool, exchange_rate = exchange(100, 'eth', eth_pool, uni_pool)\n",
    "    print(exchange_rate)"
   ]
  }
 ],
 "metadata": {
  "kernelspec": {
   "display_name": "Python 3",
   "language": "python",
   "name": "python3"
  },
  "language_info": {
   "codemirror_mode": {
    "name": "ipython",
    "version": 3
   },
   "file_extension": ".py",
   "mimetype": "text/x-python",
   "name": "python",
   "nbconvert_exporter": "python",
   "pygments_lexer": "ipython3",
   "version": "3.8.2"
  }
 },
 "nbformat": 4,
 "nbformat_minor": 5
}
