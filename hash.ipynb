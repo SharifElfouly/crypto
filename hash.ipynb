{
 "cells": [
  {
   "cell_type": "code",
   "execution_count": 1,
   "id": "brutal-breakdown",
   "metadata": {},
   "outputs": [],
   "source": [
    "import matplotlib.pyplot as plt\n",
    "from hashlib import sha256"
   ]
  },
  {
   "cell_type": "code",
   "execution_count": 2,
   "id": "sustainable-assistant",
   "metadata": {},
   "outputs": [],
   "source": [
    "x = b's' # random input character"
   ]
  },
  {
   "cell_type": "code",
   "execution_count": 3,
   "id": "august-england",
   "metadata": {},
   "outputs": [
    {
     "data": {
      "text/plain": [
       "'043a718774c572bd8a25adbeb1bfcd5c0256ae11cecf9f9c3f925d0e52beaf89'"
      ]
     },
     "execution_count": 3,
     "metadata": {},
     "output_type": "execute_result"
    }
   ],
   "source": [
    "sha256(x).hexdigest()"
   ]
  },
  {
   "cell_type": "markdown",
   "id": "interested-pavilion",
   "metadata": {},
   "source": [
    "### It's fast!"
   ]
  },
  {
   "cell_type": "code",
   "execution_count": 4,
   "id": "racial-tract",
   "metadata": {},
   "outputs": [
    {
     "name": "stdout",
     "output_type": "stream",
     "text": [
      "335 ns ± 3.32 ns per loop (mean ± std. dev. of 7 runs, 1000000 loops each)\n"
     ]
    }
   ],
   "source": [
    "%%timeit\n",
    "sha256(x*100)"
   ]
  },
  {
   "cell_type": "markdown",
   "id": "secondary-verification",
   "metadata": {},
   "source": [
    "### Function Order"
   ]
  },
  {
   "cell_type": "code",
   "execution_count": 5,
   "id": "breeding-magnitude",
   "metadata": {},
   "outputs": [],
   "source": [
    "n = 5000\n",
    "\n",
    "xs = [i for i in range(n)]\n",
    "ys = [] # execution times"
   ]
  },
  {
   "cell_type": "code",
   "execution_count": 6,
   "id": "viral-pension",
   "metadata": {},
   "outputs": [],
   "source": [
    "%%capture\n",
    "for i in range(n):\n",
    "    t = %timeit -n 100 -o sha256(x*i)\n",
    "    ys += [t.average]"
   ]
  },
  {
   "cell_type": "markdown",
   "id": "breeding-student",
   "metadata": {},
   "source": [
    "Run time grows **linearly** O(n) with input size."
   ]
  },
  {
   "cell_type": "code",
   "execution_count": 7,
   "id": "ahead-cleveland",
   "metadata": {},
   "outputs": [
    {
     "data": {
      "text/plain": [
       "[<matplotlib.lines.Line2D at 0x118cd6f40>]"
      ]
     },
     "execution_count": 7,
     "metadata": {},
     "output_type": "execute_result"
    },
    {
     "data": {
      "image/png": "[encoded data removed]",
      "text/plain": [
       "<Figure size 432x288 with 1 Axes>"
      ]
     },
     "metadata": {
      "needs_background": "light"
     },
     "output_type": "display_data"
    }
   ],
   "source": [
    "plt.plot(xs, ys)"
   ]
  }
 ],
 "metadata": {
  "kernelspec": {
   "display_name": "Python 3",
   "language": "python",
   "name": "python3"
  },
  "language_info": {
   "codemirror_mode": {
    "name": "ipython",
    "version": 3
   },
   "file_extension": ".py",
   "mimetype": "text/x-python",
   "name": "python",
   "nbconvert_exporter": "python",
   "pygments_lexer": "ipython3",
   "version": "3.8.2"
  }
 },
 "nbformat": 4,
 "nbformat_minor": 5
}
